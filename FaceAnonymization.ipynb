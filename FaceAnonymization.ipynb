{
 "metadata": {
  "language_info": {
   "codemirror_mode": {
    "name": "ipython",
    "version": 3
   },
   "file_extension": ".py",
   "mimetype": "text/x-python",
   "name": "python",
   "nbconvert_exporter": "python",
   "pygments_lexer": "ipython3",
   "version": "3.8.2-final"
  },
  "orig_nbformat": 2,
  "kernelspec": {
   "name": "python38264bitmydevtestenvcondaedaabf402c5d441caea87b5139c3aa44",
   "display_name": "Python 3.8.2 64-bit ('mydevtestenv': conda)"
  }
 },
 "nbformat": 4,
 "nbformat_minor": 2,
 "cells": [
  {
   "cell_type": "code",
   "execution_count": null,
   "metadata": {},
   "outputs": [],
   "source": [
    "#Imports\n",
    "import os,sys,json,glob,requests,cv2\n",
    "\n",
    "import matplotlib.pyplot as plt\n",
    "from matplotlib import patches\n",
    "from PIL import Image\n",
    "from io import BytesIO\n",
    "import json as js\n",
    "\n",
    "#Display images within Jupyter\n",
    "%matplotlib inline"
   ]
  },
  {
   "cell_type": "code",
   "execution_count": null,
   "metadata": {},
   "outputs": [],
   "source": [
    "#Loads info from config file \n",
    "with open('config.json','r') as file:\n",
    "    config = json.load(file)"
   ]
  },
  {
   "cell_type": "code",
   "execution_count": null,
   "metadata": {},
   "outputs": [],
   "source": [
    "#Instantiate variables and parameters needed to call the Face API \n",
    "#Variables\n",
    "_url = config['face_api_endpoint']\n",
    "_url_detection_face = _url + config['face_detection_url']\n",
    "_key = config['face_api_key']\n",
    "_maxNumRetries = 10\n",
    "\n",
    "#params\n",
    "params = {\n",
    "    'detectionModel':'detection_02',\n",
    "    'returFaceId': 'true'\n",
    "}\n",
    "\n",
    "#headers\n",
    "headers = dict()\n",
    "headers['Ocp-Apim-Subscription-Key'] = _key\n"
   ]
  },
  {
   "cell_type": "code",
   "execution_count": null,
   "metadata": {},
   "outputs": [],
   "source": [
    "#Run this cell if you're loading an img from url, otherwise skip\n",
    "\n",
    "#Load image from url\n",
    "image = 'your img url'\n",
    "headers['Content-Type'] = 'application/json'\n",
    "data = None\n",
    "js = {'url': image}\n",
    "\n"
   ]
  },
  {
   "cell_type": "code",
   "execution_count": null,
   "metadata": {},
   "outputs": [],
   "source": [
    "#Run this cell if you're loading an img from local folder, otherwise skip\n",
    "#Load local file\n",
    "#headers['Content-Type'] = 'application/octet-stream'\n",
    "#js = None\n",
    "\n",
    "#with open(image,'rb') as f:\n",
    "    #data = f.read()"
   ]
  },
  {
   "cell_type": "code",
   "execution_count": null,
   "metadata": {},
   "outputs": [],
   "source": [
    "#Call to the Face API to detect faces into the image\n",
    "response = requests.post(_url_detection_face,params=params,headers=headers, json=js,data=data)\n",
    "faces_detected = response.json()\n",
    "print(response.json())"
   ]
  },
  {
   "cell_type": "code",
   "execution_count": null,
   "metadata": {},
   "outputs": [],
   "source": [
    "#Plot detected faces (from url image)\n",
    "get_img = requests.get(image)\n",
    "img = Image.open(BytesIO(get_img.content))\n",
    "\n",
    "plt.figure(figsize=(8,8))\n",
    "ax = plt.imshow(img, alpha=0.6)\n",
    "for face in faces_detected:\n",
    "    fr = face[\"faceRectangle\"]\n",
    "    origin = (fr[\"left\"], fr[\"top\"])\n",
    "    p = patches.Rectangle(origin, fr[\"width\"], fr[\"height\"], fill=False, linewidth=2, color='b')\n",
    "    ax.axes.add_patch(p)\n",
    "_ = plt.axis(\"off\")"
   ]
  },
  {
   "cell_type": "code",
   "execution_count": null,
   "metadata": {},
   "outputs": [],
   "source": [
    "#Helper function to temp download the image in the temp folder\n",
    "def downloadImg(img,img_name):\n",
    "    path = \"./temp/\" + img_name + \".png\"\n",
    "    file = open(path, \"wb\")\n",
    "    file.write(img.content)\n",
    "    file.close()\n",
    "    print('Img file downloaded')\n",
    "    return path"
   ]
  },
  {
   "cell_type": "code",
   "execution_count": null,
   "metadata": {},
   "outputs": [],
   "source": [
    "#Helper function to blur all the faces detected and save the file\n",
    "def blurImg(img,height,width,origin):\n",
    "    output = \"./blurred_img/blurred_img.jpg\"\n",
    "    #Read img\n",
    "    im = cv2.imread(path)\n",
    "    #Create ROI\n",
    "    h,w = height,width\n",
    "    x,y = origin[0],origin[1]\n",
    "    roi = im[int(y):int(y)+int(h),int(x):int(x)+int(w)]\n",
    "    #Blur image in ROI\n",
    "    blurred_img = cv2.GaussianBlur(roi,(91,91),0)\n",
    "    #Add blur to the overall img\n",
    "    im[int(y):int(y)+int(h),int(x):int(x)+int(w)] = blurred_img\n",
    "    #Save blurred img\n",
    "    result=cv2.imwrite(r'./blurred_img/blurred_img.jpg', im)\n",
    "    if result==True:\n",
    "        print(\"File saved successfully\")\n",
    "    else:\n",
    "        print(\"Error in saving file\")\n",
    "    return output"
   ]
  },
  {
   "cell_type": "code",
   "execution_count": null,
   "metadata": {},
   "outputs": [],
   "source": [
    "#Applies the blur to the faces detected\n",
    "path = downloadImg(get_img,\"test\")\n",
    "\n",
    "for face in faces_detected:\n",
    "    fr = face[\"faceRectangle\"]\n",
    "    origin = (fr[\"left\"], fr[\"top\"])\n",
    "    path = blurImg(path,fr['height'],fr['width'],origin)"
   ]
  }
 ]
}